{
 "cells": [
  {
   "cell_type": "code",
   "execution_count": 2,
   "metadata": {
    "collapsed": true
   },
   "outputs": [],
   "source": [
    "from uber_rides.session import Session\n",
    "from uber_rides.client import UberRidesClient"
   ]
  },
  {
   "cell_type": "code",
   "execution_count": 3,
   "metadata": {
    "collapsed": true
   },
   "outputs": [],
   "source": [
    "session = Session(server_token=\"bO-FX2gDEbX0bcS2eTM5xn4iuRUvzgzQ9syXDX1y\")\n",
    "client = UberRidesClient(session)"
   ]
  },
  {
   "cell_type": "code",
   "execution_count": 5,
   "metadata": {},
   "outputs": [],
   "source": [
    "# response = client.get_products(43.661679, -79.387141)\n",
    "# products = response.json.get('products')"
   ]
  },
  {
   "cell_type": "code",
   "execution_count": 13,
   "metadata": {},
   "outputs": [
    {
     "ename": "AttributeError",
     "evalue": "'UberRidesClient' object has no attribute 'get_time_estimates'",
     "output_type": "error",
     "traceback": [
      "\u001b[1;31m---------------------------------------------------------------------------\u001b[0m",
      "\u001b[1;31mAttributeError\u001b[0m                            Traceback (most recent call last)",
      "\u001b[1;32m<ipython-input-13-fed592f9455c>\u001b[0m in \u001b[0;36m<module>\u001b[1;34m()\u001b[0m\n\u001b[0;32m      9\u001b[0m \u001b[0mestimatep\u001b[0m \u001b[1;33m=\u001b[0m \u001b[0mresponse\u001b[0m\u001b[1;33m.\u001b[0m\u001b[0mjson\u001b[0m\u001b[1;33m.\u001b[0m\u001b[0mget\u001b[0m\u001b[1;33m(\u001b[0m\u001b[1;34m'prices'\u001b[0m\u001b[1;33m)\u001b[0m\u001b[1;33m\u001b[0m\u001b[0m\n\u001b[0;32m     10\u001b[0m \u001b[1;33m\u001b[0m\u001b[0m\n\u001b[1;32m---> 11\u001b[1;33m response = client.get_time_estimates(\n\u001b[0m\u001b[0;32m     12\u001b[0m     \u001b[0mstart_latitude\u001b[0m\u001b[1;33m=\u001b[0m\u001b[1;36m43.661679\u001b[0m\u001b[1;33m,\u001b[0m\u001b[1;33m\u001b[0m\u001b[0m\n\u001b[0;32m     13\u001b[0m     \u001b[0mstart_longitude\u001b[0m\u001b[1;33m=\u001b[0m\u001b[1;33m-\u001b[0m\u001b[1;36m79.387141\u001b[0m\u001b[1;33m\u001b[0m\u001b[0m\n",
      "\u001b[1;31mAttributeError\u001b[0m: 'UberRidesClient' object has no attribute 'get_time_estimates'"
     ]
    }
   ],
   "source": [
    "response = client.get_price_estimates(\n",
    "    start_latitude=43.661679,\n",
    "    start_longitude=-79.387141,\n",
    "    end_latitude=43.561679,\n",
    "    end_longitude=-79.387141,\n",
    "    seat_count=2\n",
    ")\n",
    "\n",
    "estimatep = response.json.get('prices')\n",
    "\n",
    "response = client.get_time_estimates(\n",
    "    start_latitude=43.661679,\n",
    "    start_longitude=-79.387141\n",
    ")\n",
    "\n",
    "estimatet = response.json.get('times')\n"
   ]
  },
  {
   "cell_type": "code",
   "execution_count": 14,
   "metadata": {},
   "outputs": [
    {
     "data": {
      "text/plain": [
       "[{'currency_code': 'CAD',\n",
       "  'display_name': 'uberPOOL',\n",
       "  'distance': 12.45,\n",
       "  'duration': 3120,\n",
       "  'estimate': 'CA$18-24',\n",
       "  'high_estimate': 25.0,\n",
       "  'localized_display_name': 'uberPOOL',\n",
       "  'low_estimate': 18.0,\n",
       "  'product_id': '4a30e418-f41c-4279-a443-b14cb0900199'},\n",
       " {'currency_code': 'CAD',\n",
       "  'display_name': 'uberX',\n",
       "  'distance': 12.45,\n",
       "  'duration': 3120,\n",
       "  'estimate': 'CA$27-34',\n",
       "  'high_estimate': 34.0,\n",
       "  'localized_display_name': 'uberX',\n",
       "  'low_estimate': 27.0,\n",
       "  'product_id': 'd1e548ac-4be5-46c0-8c86-201ac8a36fc6'},\n",
       " {'currency_code': 'CAD',\n",
       "  'display_name': 'uberXL',\n",
       "  'distance': 12.45,\n",
       "  'duration': 3120,\n",
       "  'estimate': 'CA$51-63',\n",
       "  'high_estimate': 63.0,\n",
       "  'localized_display_name': 'uberXL',\n",
       "  'low_estimate': 51.0,\n",
       "  'product_id': '5f6b1c2b-a906-428b-acef-3190f2a79d46'},\n",
       " {'currency_code': 'CAD',\n",
       "  'display_name': 'UberSELECT',\n",
       "  'distance': 12.45,\n",
       "  'duration': 3120,\n",
       "  'estimate': 'CA$56-69',\n",
       "  'high_estimate': 69.0,\n",
       "  'localized_display_name': 'UberSELECT',\n",
       "  'low_estimate': 56.0,\n",
       "  'product_id': '9df3dd73-e480-4072-8970-248080dd0fad'},\n",
       " {'currency_code': 'CAD',\n",
       "  'display_name': 'UberBLACK',\n",
       "  'distance': 12.45,\n",
       "  'duration': 3120,\n",
       "  'estimate': 'CA$78-96',\n",
       "  'high_estimate': 96.0,\n",
       "  'localized_display_name': 'UberBLACK',\n",
       "  'low_estimate': 78.0,\n",
       "  'product_id': 'ab3e4e4d-8dc2-422d-ab7f-9845c881d4e9'},\n",
       " {'currency_code': 'CAD',\n",
       "  'display_name': 'UberSUV',\n",
       "  'distance': 12.45,\n",
       "  'duration': 3120,\n",
       "  'estimate': 'CA$91-113',\n",
       "  'high_estimate': 113.0,\n",
       "  'localized_display_name': 'UberSUV',\n",
       "  'low_estimate': 91.0,\n",
       "  'product_id': '57bcacad-7817-4f53-b2a7-3da2318a7bea'},\n",
       " {'currency_code': 'CAD',\n",
       "  'display_name': 'uberASSIST',\n",
       "  'distance': 12.45,\n",
       "  'duration': 3120,\n",
       "  'estimate': 'CA$27-34',\n",
       "  'high_estimate': 34.0,\n",
       "  'localized_display_name': 'uberASSIST',\n",
       "  'low_estimate': 27.0,\n",
       "  'product_id': 'b0d1efb8-3ef6-4d3c-acfe-5635f40c5d34'},\n",
       " {'currency_code': 'CAD',\n",
       "  'display_name': 'uberWAV',\n",
       "  'distance': 12.45,\n",
       "  'duration': 3120,\n",
       "  'estimate': 'CA$27-34',\n",
       "  'high_estimate': 34.0,\n",
       "  'localized_display_name': 'uberWAV',\n",
       "  'low_estimate': 27.0,\n",
       "  'product_id': '887b0ab8-6ded-4793-b57a-98b74cce188b'},\n",
       " {'currency_code': None,\n",
       "  'display_name': 'TAXI',\n",
       "  'distance': 12.45,\n",
       "  'duration': 3120,\n",
       "  'estimate': 'Metered',\n",
       "  'high_estimate': None,\n",
       "  'localized_display_name': 'TAXI',\n",
       "  'low_estimate': None,\n",
       "  'product_id': '8e50abe8-9fc0-4243-b648-ac2b7260ecbe'}]"
      ]
     },
     "execution_count": 14,
     "metadata": {},
     "output_type": "execute_result"
    }
   ],
   "source": [
    "estimatep"
   ]
  },
  {
   "cell_type": "code",
   "execution_count": null,
   "metadata": {
    "collapsed": true
   },
   "outputs": [],
   "source": []
  }
 ],
 "metadata": {
  "kernelspec": {
   "display_name": "Python 3",
   "language": "python",
   "name": "python3"
  },
  "language_info": {
   "codemirror_mode": {
    "name": "ipython",
    "version": 3
   },
   "file_extension": ".py",
   "mimetype": "text/x-python",
   "name": "python",
   "nbconvert_exporter": "python",
   "pygments_lexer": "ipython3",
   "version": "3.6.1"
  }
 },
 "nbformat": 4,
 "nbformat_minor": 2
}
